{
 "cells": [
  {
   "cell_type": "markdown",
   "metadata": {},
   "source": [
    "문제\n",
    "지민이는 자신의 저택에서 MN개의 단위 정사각형으로 나누어져 있는 M×N 크기의 보드를 찾았다. 어떤 정사각형은 검은색으로 칠해져 있고, 나머지는 흰색으로 칠해져 있다. 지민이는 이 보드를 잘라서 8×8 크기의 체스판으로 만들려고 한다.\n",
    "\n",
    "체스판은 검은색과 흰색이 번갈아서 칠해져 있어야 한다. 구체적으로, 각 칸이 검은색과 흰색 중 하나로 색칠되어 있고, 변을 공유하는 두 개의 사각형은 다른 색으로 칠해져 있어야 한다. 따라서 이 정의를 따르면 체스판을 색칠하는 경우는 두 가지뿐이다. 하나는 맨 왼쪽 위 칸이 흰색인 경우, 하나는 검은색인 경우이다.\n",
    "\n",
    "보드가 체스판처럼 칠해져 있다는 보장이 없어서, 지민이는 8×8 크기의 체스판으로 잘라낸 후에 몇 개의 정사각형을 다시 칠해야겠다고 생각했다. 당연히 8*8 크기는 아무데서나 골라도 된다. 지민이가 다시 칠해야 하는 정사각형의 최소 개수를 구하는 프로그램을 작성하시오.\n",
    "\n",
    "입력\n",
    "첫째 줄에 N과 M이 주어진다. N과 M은 8보다 크거나 같고, 50보다 작거나 같은 자연수이다. 둘째 줄부터 N개의 줄에는 보드의 각 행의 상태가 주어진다. B는 검은색이며, W는 흰색이다.\n",
    "\n",
    "출력\n",
    "첫째 줄에 지민이가 다시 칠해야 하는 정사각형 개수의 최솟값을 출력한다."
   ]
  },
  {
   "cell_type": "code",
   "execution_count": 1,
   "metadata": {},
   "outputs": [],
   "source": [
    "# W 정답과 비교해 다른 개수 계산, 64에서 빼면 B 정답과 다른 개수\n",
    "# 8x8 kernel 로 잘라서 하나씩 수 계산\n",
    "\n",
    "chess = [['W', 'B', 'W', 'B', 'W', 'B', 'W', 'B'],\n",
    "         ['B', 'W', 'B', 'W', 'B', 'W', 'B', 'W'],\n",
    "         ['W', 'B', 'W', 'B', 'W', 'B', 'W', 'B'],\n",
    "         ['B', 'W', 'B', 'W', 'B', 'W', 'B', 'W'],\n",
    "         ['W', 'B', 'W', 'B', 'W', 'B', 'W', 'B'],\n",
    "         ['B', 'W', 'B', 'W', 'B', 'W', 'B', 'W'],\n",
    "         ['W', 'B', 'W', 'B', 'W', 'B', 'W', 'B'],\n",
    "         ['B', 'W', 'B', 'W', 'B', 'W', 'B', 'W']]\n",
    "\n",
    "N, M = map(int, input().split())\n",
    "\n",
    "# 색칠할 최소 개수\n",
    "res = N*M\n",
    "mat = []\n",
    "\n",
    "for _ in range(N):\n",
    "    mat.append(list(input()))\n",
    "\n",
    "for i in range(M-7):\n",
    "    for j in range(N-7):\n",
    "        cnt = 0\n",
    "        for r in range(8):\n",
    "            for c in range(8):\n",
    "                if mat[N+r][M+c] != chess[r][c]:\n",
    "                    cnt += 1\n",
    "        local_min = min(cnt, 64-cnt)\n",
    "        res = min(local_min, res)\n",
    "print(res)"
   ]
  }
 ],
 "metadata": {
  "kernelspec": {
   "display_name": "base",
   "language": "python",
   "name": "python3"
  },
  "language_info": {
   "codemirror_mode": {
    "name": "ipython",
    "version": 3
   },
   "file_extension": ".py",
   "mimetype": "text/x-python",
   "name": "python",
   "nbconvert_exporter": "python",
   "pygments_lexer": "ipython3",
   "version": "3.11.5"
  }
 },
 "nbformat": 4,
 "nbformat_minor": 2
}
