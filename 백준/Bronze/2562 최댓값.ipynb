{
 "cells": [
  {
   "cell_type": "code",
   "execution_count": null,
   "metadata": {},
   "outputs": [],
   "source": [
    "m = 1\n",
    "idx = 0\n",
    "for i in range(9):\n",
    "    N = int(input())\n",
    "    if N > m:\n",
    "        m = N\n",
    "        idx = i+1\n",
    "\n",
    "print(m)\n",
    "print(idx)"
   ]
  }
 ],
 "metadata": {
  "language_info": {
   "name": "python"
  }
 },
 "nbformat": 4,
 "nbformat_minor": 2
}
