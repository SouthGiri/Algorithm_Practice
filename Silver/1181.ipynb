{
 "cells": [
  {
   "cell_type": "code",
   "execution_count": null,
   "metadata": {},
   "outputs": [],
   "source": [
    "# len(word), word 순으로 append 시\n",
    "# list.sort 로 바로 가능\n",
    "\n",
    "n = int(input())\n",
    "li = []\n",
    "for _ in range(n):\n",
    "    word = input()\n",
    "    li.append((word, len(word)))\n",
    "\n",
    "li = list(set(li))\n",
    "li.sort(key = lambda x : (x[1], x[0]))\n",
    "\n",
    "for i in li:\n",
    "    print(i[0])"
   ]
  }
 ],
 "metadata": {
  "kernelspec": {
   "display_name": "base",
   "language": "python",
   "name": "python3"
  },
  "language_info": {
   "codemirror_mode": {
    "name": "ipython",
    "version": 3
   },
   "file_extension": ".py",
   "mimetype": "text/x-python",
   "name": "python",
   "nbconvert_exporter": "python",
   "pygments_lexer": "ipython3",
   "version": "3.11.5"
  }
 },
 "nbformat": 4,
 "nbformat_minor": 2
}
