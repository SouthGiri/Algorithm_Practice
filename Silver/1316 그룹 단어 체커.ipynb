{
 "cells": [
  {
   "cell_type": "markdown",
   "metadata": {},
   "source": [
    "문제\n",
    "그룹 단어란 단어에 존재하는 모든 문자에 대해서, 각 문자가 연속해서 나타나는 경우만을 말한다. 예를 들면, ccazzzzbb는 c, a, z, b가 모두 연속해서 나타나고, kin도 k, i, n이 연속해서 나타나기 때문에 그룹 단어이지만, aabbbccb는 b가 떨어져서 나타나기 때문에 그룹 단어가 아니다.\n",
    "\n",
    "단어 N개를 입력으로 받아 그룹 단어의 개수를 출력하는 프로그램을 작성하시오.\n",
    "\n",
    "입력\n",
    "첫째 줄에 단어의 개수 N이 들어온다. N은 100보다 작거나 같은 자연수이다. 둘째 줄부터 N개의 줄에 단어가 들어온다. 단어는 알파벳 소문자로만 되어있고 중복되지 않으며, 길이는 최대 100이다.\n",
    "\n",
    "출력\n",
    "첫째 줄에 그룹 단어의 개수를 출력한다."
   ]
  },
  {
   "cell_type": "code",
   "execution_count": null,
   "metadata": {},
   "outputs": [],
   "source": [
    "# 철자 하나씩 보면서 리스트에 순차적으로 추가\n",
    "# 처음 나오는 철자인 경우\n",
    "#   추가\n",
    "# 리스트의 마지막이 아닌 철자면 그룹x\n",
    "import sys\n",
    "N = int(input())\n",
    "\n",
    "group = 0\n",
    "\n",
    "for _ in range(N):\n",
    "    word = sys.stdin.readline()\n",
    "    li = []\n",
    "    is_group = True\n",
    "    for i in word:\n",
    "        if i not in li:\n",
    "            li.append(i)\n",
    "        else:\n",
    "            if i != li[len(li) - 1]:\n",
    "                is_group = False\n",
    "                break\n",
    "    if is_group:\n",
    "        group += 1\n",
    "\n",
    "print(group)\n"
   ]
  }
 ],
 "metadata": {
  "language_info": {
   "name": "python"
  }
 },
 "nbformat": 4,
 "nbformat_minor": 2
}
