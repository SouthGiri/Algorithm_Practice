{
 "cells": [
  {
   "cell_type": "markdown",
   "metadata": {},
   "source": [
    "\n",
    "문제\n",
    "조규현과 백승환은 터렛에 근무하는 직원이다. 하지만 워낙 존재감이 없어서 인구수는 차지하지 않는다. 다음은 조규현과 백승환의 사진이다.\n",
    "\n",
    "이석원은 조규현과 백승환에게 상대편 마린(류재명)의 위치를 계산하라는 명령을 내렸다. 조규현과 백승환은 각각 자신의 터렛 위치에서 현재 적까지의 거리를 계산했다.\n",
    "\n",
    "조규현의 좌표 \n",
    "$(x_1, y_1)$와 백승환의 좌표 \n",
    "$(x_2, y_2)$가 주어지고, 조규현이 계산한 류재명과의 거리 \n",
    "$r_1$과 백승환이 계산한 류재명과의 거리 \n",
    "$r_2$가 주어졌을 때, 류재명이 있을 수 있는 좌표의 수를 출력하는 프로그램을 작성하시오.\n",
    "\n",
    "입력\n",
    "첫째 줄에 테스트 케이스의 개수 \n",
    "$T$가 주어진다. 각 테스트 케이스는 다음과 같이 이루어져 있다.\n",
    "\n",
    "한 줄에 공백으로 구분 된 여섯 정수 \n",
    "$x_1$, \n",
    "$y_1$, \n",
    "$r_1$, \n",
    "$x_2$, \n",
    "$y_2$, \n",
    "$r_2$가 주어진다.\n",
    "\n",
    "출력\n",
    "각 테스트 케이스마다 류재명이 있을 수 있는 위치의 수를 출력한다. 만약 류재명이 있을 수 있는 위치의 개수가 무한대일 경우에는 \n",
    "$-1$ 출력한다."
   ]
  },
  {
   "cell_type": "code",
   "execution_count": 7,
   "metadata": {},
   "outputs": [
    {
     "name": "stdout",
     "output_type": "stream",
     "text": [
      "2\n"
     ]
    }
   ],
   "source": [
    "import math\n",
    "\n",
    "T = int(input())\n",
    "for _ in range(T):\n",
    "    x1, y1, r1, x2, y2, r2 = map(int, input().split())\n",
    "    # 두 점 사이 거리\n",
    "    dist = math.sqrt((x1-x2)**2 + (y1-y2)**2)\n",
    "    if dist == 0 and r1 == r2:\n",
    "        print(-1)\n",
    "    # 외접 or 내접\n",
    "    elif abs(r1-r2) == dist or r1 + r2 == dist:\n",
    "        print(1)\n",
    "    elif abs(r1-r2) < dist and r1 + r2 > dist:\n",
    "        print(2)\n",
    "    else:\n",
    "        print(0)"
   ]
  }
 ],
 "metadata": {
  "kernelspec": {
   "display_name": "base",
   "language": "python",
   "name": "python3"
  },
  "language_info": {
   "codemirror_mode": {
    "name": "ipython",
    "version": 3
   },
   "file_extension": ".py",
   "mimetype": "text/x-python",
   "name": "python",
   "nbconvert_exporter": "python",
   "pygments_lexer": "ipython3",
   "version": "3.11.5"
  }
 },
 "nbformat": 4,
 "nbformat_minor": 2
}
