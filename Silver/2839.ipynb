{
 "cells": [
  {
   "cell_type": "markdown",
   "metadata": {},
   "source": [
    "문제\n",
    "상근이는 요즘 설탕공장에서 설탕을 배달하고 있다. 상근이는 지금 사탕가게에 설탕을 정확하게 N킬로그램을 배달해야 한다. 설탕공장에서 만드는 설탕은 봉지에 담겨져 있다. 봉지는 3킬로그램 봉지와 5킬로그램 봉지가 있다.\n",
    "\n",
    "상근이는 귀찮기 때문에, 최대한 적은 봉지를 들고 가려고 한다. 예를 들어, 18킬로그램 설탕을 배달해야 할 때, 3킬로그램 봉지 6개를 가져가도 되지만, 5킬로그램 3개와 3킬로그램 1개를 배달하면, 더 적은 개수의 봉지를 배달할 수 있다.\n",
    "\n",
    "상근이가 설탕을 정확하게 N킬로그램 배달해야 할 때, 봉지 몇 개를 가져가면 되는지 그 수를 구하는 프로그램을 작성하시오.\n",
    "\n",
    "입력\n",
    "첫째 줄에 N이 주어진다. (3 ≤ N ≤ 5000)\n",
    "\n",
    "출력\n",
    "상근이가 배달하는 봉지의 최소 개수를 출력한다. 만약, 정확하게 N킬로그램을 만들 수 없다면 -1을 출력한다."
   ]
  },
  {
   "cell_type": "code",
   "execution_count": null,
   "metadata": {},
   "outputs": [],
   "source": [
    "# 3 0 1 / 4 -1 / 5 1 0 / 6 0 2 / 7 -1 / 8 1 1 / 9 0 3 / 10 2 0 / 11 1 2 / 12 0 4 / 13 2 1 / 14 1 3 / 15 3 0\n",
    "# 16 2 2\n",
    "\n",
    "# 01\n",
    "# -1\n",
    "# 10\n",
    "\n",
    "# 02\n",
    "# -1\n",
    "# 11\n",
    "\n",
    "# 03\n",
    "# 20\n",
    "# 12\n",
    "\n",
    "# 04\n",
    "# 21\n",
    "# 13\n",
    "\n",
    "# 30\n",
    "# 22"
   ]
  },
  {
   "cell_type": "code",
   "execution_count": 4,
   "metadata": {},
   "outputs": [
    {
     "name": "stdout",
     "output_type": "stream",
     "text": [
      "-1\n"
     ]
    }
   ],
   "source": [
    "# 1. 5로 나눠짐\n",
    "# 2. 5, 3 조합으로 담기\n",
    "# 3. 3으로 나눠짐\n",
    "# 4. 5, 3 으로 나눠지지 X\n",
    "\n",
    "# 1. 5로만 나누기\n",
    "# 2. 최소한의 3, 최대한의 5로 나누기\n",
    "# 3. 3으로 나누기\n",
    "# 4. 나눠지지 X\n",
    "\n",
    "\n",
    "\n",
    "n = int(input())\n",
    "\n",
    "if n%5 == 0:\n",
    "    print(n//5)\n",
    "else:\n",
    "    p = 0\n",
    "    while n > 0:\n",
    "        n-=3\n",
    "        p += 1\n",
    "        if n%5 == 0:\n",
    "            p += n//5\n",
    "            print(p)\n",
    "            break\n",
    "        elif n == 1 or n == 2:\n",
    "            print(-1)\n",
    "            break\n",
    "        elif n == 0:\n",
    "            print(p)\n",
    "            break\n"
   ]
  }
 ],
 "metadata": {
  "kernelspec": {
   "display_name": "base",
   "language": "python",
   "name": "python3"
  },
  "language_info": {
   "codemirror_mode": {
    "name": "ipython",
    "version": 3
   },
   "file_extension": ".py",
   "mimetype": "text/x-python",
   "name": "python",
   "nbconvert_exporter": "python",
   "pygments_lexer": "ipython3",
   "version": "3.11.5"
  }
 },
 "nbformat": 4,
 "nbformat_minor": 2
}
