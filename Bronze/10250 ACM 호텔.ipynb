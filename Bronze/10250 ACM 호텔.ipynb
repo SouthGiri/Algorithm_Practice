{
 "cells": [
  {
   "cell_type": "code",
   "execution_count": 14,
   "metadata": {},
   "outputs": [
    {
     "name": "stdout",
     "output_type": "stream",
     "text": [
      "501\n"
     ]
    }
   ],
   "source": [
    "T = int(input())\n",
    "for _ in range(T):\n",
    "    h, w, n = map(int, input().split())\n",
    "    if n%h == 0:\n",
    "        y = str(h)\n",
    "        x = str(n//h)\n",
    "        if len(x) == 1:\n",
    "            x = '0' + x\n",
    "        print(y + x)\n",
    "    else:\n",
    "        y = str(n%h)\n",
    "        x = str(n//h + 1)\n",
    "        if len(x) == 1:\n",
    "            x = '0' + x\n",
    "        print(y+x)"
   ]
  }
 ],
 "metadata": {
  "kernelspec": {
   "display_name": "base",
   "language": "python",
   "name": "python3"
  },
  "language_info": {
   "codemirror_mode": {
    "name": "ipython",
    "version": 3
   },
   "file_extension": ".py",
   "mimetype": "text/x-python",
   "name": "python",
   "nbconvert_exporter": "python",
   "pygments_lexer": "ipython3",
   "version": "3.11.5"
  }
 },
 "nbformat": 4,
 "nbformat_minor": 2
}
